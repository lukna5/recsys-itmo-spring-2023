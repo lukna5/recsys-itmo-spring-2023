{
 "cells": [
  {
   "cell_type": "markdown",
   "metadata": {},
   "source": [
    "# Week 1 Seminar\n",
    "\n",
    "A/B experiment analysis"
   ]
  },
  {
   "cell_type": "code",
   "execution_count": 2,
   "metadata": {
    "tags": []
   },
   "outputs": [],
   "source": [
    "from collections import namedtuple\n",
    "\n",
    "import pandas as pd\n",
    "import numpy as np\n",
    "import scipy.stats as ss\n",
    "\n",
    "import matplotlib.pyplot as plt\n",
    "\n",
    "pd.set_option(\"display.precision\", 3)\n",
    "\n",
    "%matplotlib inline"
   ]
  },
  {
   "cell_type": "code",
   "execution_count": 3,
   "metadata": {
    "tags": []
   },
   "outputs": [],
   "source": [
    "experiment = \"CONTEXTUAL\""
   ]
  },
  {
   "cell_type": "code",
   "execution_count": 4,
   "metadata": {
    "tags": []
   },
   "outputs": [
    {
     "ename": "KeyError",
     "evalue": "'CONTEXTUAL'",
     "output_type": "error",
     "traceback": [
      "\u001B[1;31m---------------------------------------------------------------------------\u001B[0m",
      "\u001B[1;31mKeyError\u001B[0m                                  Traceback (most recent call last)",
      "Cell \u001B[1;32mIn[4], line 3\u001B[0m\n\u001B[0;32m      1\u001B[0m data \u001B[38;5;241m=\u001B[39m pd\u001B[38;5;241m.\u001B[39mread_json(\u001B[38;5;124m\"\u001B[39m\u001B[38;5;124m../botify/data/RecomenderData/log/data.json\u001B[39m\u001B[38;5;124m\"\u001B[39m, lines\u001B[38;5;241m=\u001B[39m\u001B[38;5;28;01mTrue\u001B[39;00m)\n\u001B[1;32m----> 3\u001B[0m data[\u001B[38;5;124m\"\u001B[39m\u001B[38;5;124mtreatment\u001B[39m\u001B[38;5;124m\"\u001B[39m] \u001B[38;5;241m=\u001B[39m \u001B[43mdata\u001B[49m\u001B[43m[\u001B[49m\u001B[38;5;124;43m\"\u001B[39;49m\u001B[38;5;124;43mexperiments\u001B[39;49m\u001B[38;5;124;43m\"\u001B[39;49m\u001B[43m]\u001B[49m\u001B[38;5;241;43m.\u001B[39;49m\u001B[43mmap\u001B[49m\u001B[43m(\u001B[49m\u001B[38;5;28;43;01mlambda\u001B[39;49;00m\u001B[43m \u001B[49m\u001B[43mexperiments\u001B[49m\u001B[43m:\u001B[49m\u001B[43m \u001B[49m\u001B[43mexperiments\u001B[49m\u001B[43m[\u001B[49m\u001B[43mexperiment\u001B[49m\u001B[43m]\u001B[49m\u001B[43m)\u001B[49m\n",
      "File \u001B[1;32m~\\myGit\\recsys-itmo-spring-2023\\venv\\lib\\site-packages\\pandas\\core\\series.py:4161\u001B[0m, in \u001B[0;36mSeries.map\u001B[1;34m(self, arg, na_action)\u001B[0m\n\u001B[0;32m   4086\u001B[0m \u001B[38;5;28;01mdef\u001B[39;00m \u001B[38;5;21mmap\u001B[39m(\u001B[38;5;28mself\u001B[39m, arg, na_action\u001B[38;5;241m=\u001B[39m\u001B[38;5;28;01mNone\u001B[39;00m) \u001B[38;5;241m-\u001B[39m\u001B[38;5;241m>\u001B[39m Series:\n\u001B[0;32m   4087\u001B[0m \u001B[38;5;250m    \u001B[39m\u001B[38;5;124;03m\"\"\"\u001B[39;00m\n\u001B[0;32m   4088\u001B[0m \u001B[38;5;124;03m    Map values of Series according to input correspondence.\u001B[39;00m\n\u001B[0;32m   4089\u001B[0m \n\u001B[1;32m   (...)\u001B[0m\n\u001B[0;32m   4159\u001B[0m \u001B[38;5;124;03m    dtype: object\u001B[39;00m\n\u001B[0;32m   4160\u001B[0m \u001B[38;5;124;03m    \"\"\"\u001B[39;00m\n\u001B[1;32m-> 4161\u001B[0m     new_values \u001B[38;5;241m=\u001B[39m \u001B[38;5;28;43msuper\u001B[39;49m\u001B[43m(\u001B[49m\u001B[43m)\u001B[49m\u001B[38;5;241;43m.\u001B[39;49m\u001B[43m_map_values\u001B[49m\u001B[43m(\u001B[49m\u001B[43marg\u001B[49m\u001B[43m,\u001B[49m\u001B[43m \u001B[49m\u001B[43mna_action\u001B[49m\u001B[38;5;241;43m=\u001B[39;49m\u001B[43mna_action\u001B[49m\u001B[43m)\u001B[49m\n\u001B[0;32m   4162\u001B[0m     \u001B[38;5;28;01mreturn\u001B[39;00m \u001B[38;5;28mself\u001B[39m\u001B[38;5;241m.\u001B[39m_constructor(new_values, index\u001B[38;5;241m=\u001B[39m\u001B[38;5;28mself\u001B[39m\u001B[38;5;241m.\u001B[39mindex)\u001B[38;5;241m.\u001B[39m__finalize__(\n\u001B[0;32m   4163\u001B[0m         \u001B[38;5;28mself\u001B[39m, method\u001B[38;5;241m=\u001B[39m\u001B[38;5;124m\"\u001B[39m\u001B[38;5;124mmap\u001B[39m\u001B[38;5;124m\"\u001B[39m\n\u001B[0;32m   4164\u001B[0m     )\n",
      "File \u001B[1;32m~\\myGit\\recsys-itmo-spring-2023\\venv\\lib\\site-packages\\pandas\\core\\base.py:870\u001B[0m, in \u001B[0;36mIndexOpsMixin._map_values\u001B[1;34m(self, mapper, na_action)\u001B[0m\n\u001B[0;32m    867\u001B[0m         \u001B[38;5;28;01mraise\u001B[39;00m \u001B[38;5;167;01mValueError\u001B[39;00m(msg)\n\u001B[0;32m    869\u001B[0m \u001B[38;5;66;03m# mapper is a function\u001B[39;00m\n\u001B[1;32m--> 870\u001B[0m new_values \u001B[38;5;241m=\u001B[39m \u001B[43mmap_f\u001B[49m\u001B[43m(\u001B[49m\u001B[43mvalues\u001B[49m\u001B[43m,\u001B[49m\u001B[43m \u001B[49m\u001B[43mmapper\u001B[49m\u001B[43m)\u001B[49m\n\u001B[0;32m    872\u001B[0m \u001B[38;5;28;01mreturn\u001B[39;00m new_values\n",
      "File \u001B[1;32m~\\myGit\\recsys-itmo-spring-2023\\venv\\lib\\site-packages\\pandas\\_libs\\lib.pyx:2859\u001B[0m, in \u001B[0;36mpandas._libs.lib.map_infer\u001B[1;34m()\u001B[0m\n",
      "Cell \u001B[1;32mIn[4], line 3\u001B[0m, in \u001B[0;36m<lambda>\u001B[1;34m(experiments)\u001B[0m\n\u001B[0;32m      1\u001B[0m data \u001B[38;5;241m=\u001B[39m pd\u001B[38;5;241m.\u001B[39mread_json(\u001B[38;5;124m\"\u001B[39m\u001B[38;5;124m../botify/data/RecomenderData/log/data.json\u001B[39m\u001B[38;5;124m\"\u001B[39m, lines\u001B[38;5;241m=\u001B[39m\u001B[38;5;28;01mTrue\u001B[39;00m)\n\u001B[1;32m----> 3\u001B[0m data[\u001B[38;5;124m\"\u001B[39m\u001B[38;5;124mtreatment\u001B[39m\u001B[38;5;124m\"\u001B[39m] \u001B[38;5;241m=\u001B[39m data[\u001B[38;5;124m\"\u001B[39m\u001B[38;5;124mexperiments\u001B[39m\u001B[38;5;124m\"\u001B[39m]\u001B[38;5;241m.\u001B[39mmap(\u001B[38;5;28;01mlambda\u001B[39;00m experiments: \u001B[43mexperiments\u001B[49m\u001B[43m[\u001B[49m\u001B[43mexperiment\u001B[49m\u001B[43m]\u001B[49m)\n",
      "\u001B[1;31mKeyError\u001B[0m: 'CONTEXTUAL'"
     ]
    }
   ],
   "source": [
    "data = pd.read_json(\"../botify/data/RecomenderData/log/data.json\", lines=True)\n",
    "\n",
    "data[\"treatment\"] = data[\"experiments\"].map(lambda experiments: experiments[experiment])"
   ]
  },
  {
   "cell_type": "code",
   "execution_count": null,
   "metadata": {
    "tags": []
   },
   "outputs": [],
   "source": [
    "data.head()"
   ]
  },
  {
   "cell_type": "markdown",
   "metadata": {},
   "source": [
    "## Visualize sessions"
   ]
  },
  {
   "cell_type": "code",
   "execution_count": null,
   "metadata": {
    "tags": []
   },
   "outputs": [],
   "source": [
    "Session = namedtuple(\"Session\", [\"timestamp\", \"tracks\", \"time\", \"latency\"])\n",
    "\n",
    "def sessionize(user_data):\n",
    "    sessions = []\n",
    "    session = None\n",
    "    for _, row in user_data.sort_values(\"timestamp\").iterrows():\n",
    "        if session is None:\n",
    "            session = Session(row[\"timestamp\"], 0, 0, 0)\n",
    "        \n",
    "        session = session._replace(\n",
    "            tracks = session.tracks + 1, \n",
    "            time = session.time + row[\"time\"],\n",
    "            latency = session.latency + row[\"latency\"] * 1000,\n",
    "        )\n",
    "        \n",
    "        if row[\"message\"] == \"last\":\n",
    "            sessions.append(session._asdict())\n",
    "            session = None\n",
    "    return sessions"
   ]
  },
  {
   "cell_type": "code",
   "execution_count": null,
   "metadata": {
    "tags": []
   },
   "outputs": [],
   "source": [
    "sessions = (\n",
    "    data\n",
    "    .groupby([\"user\", \"treatment\"])\n",
    "    .apply(sessionize)\n",
    "    .explode()\n",
    "    .apply(pd.Series)\n",
    ")"
   ]
  },
  {
   "cell_type": "code",
   "execution_count": null,
   "metadata": {
    "tags": []
   },
   "outputs": [],
   "source": [
    "figure, ax = plt.subplots(figsize=(15, 5))\n",
    "for treatment, treatment_sessions in sessions.groupby(\"treatment\"):\n",
    "    reindexed_treatment_sessions = treatment_sessions.sort_values(\"timestamp\").reset_index()\n",
    "    ax.plot(reindexed_treatment_sessions.index, reindexed_treatment_sessions[\"tracks\"], label=treatment)\n",
    "ax.legend()\n",
    "pass"
   ]
  },
  {
   "cell_type": "code",
   "execution_count": null,
   "metadata": {
    "tags": []
   },
   "outputs": [],
   "source": [
    "figure, ax = plt.subplots(figsize=(15, 5))\n",
    "for treatment, treatment_sessions in sessions.groupby(\"treatment\"):\n",
    "    reindexed_treatment_sessions = treatment_sessions.sort_values(\"timestamp\").reset_index()\n",
    "    ax.plot(reindexed_treatment_sessions.index, reindexed_treatment_sessions[\"time\"], label=treatment)\n",
    "ax.legend()\n",
    "pass"
   ]
  },
  {
   "cell_type": "markdown",
   "metadata": {},
   "source": [
    "## Analyze the experiment"
   ]
  },
  {
   "cell_type": "code",
   "execution_count": null,
   "metadata": {
    "tags": []
   },
   "outputs": [],
   "source": [
    "user_level_data = (\n",
    "  sessions\n",
    "    .reset_index()\n",
    "    .groupby([\"user\", \"treatment\"])\n",
    "    .agg(\n",
    "        {\n",
    "            \"timestamp\": \"count\",\n",
    "            \"tracks\": \"sum\",\n",
    "            \"time\": \"sum\",\n",
    "            \"latency\": \"sum\"\n",
    "        }\n",
    "    )\n",
    ")\n",
    "\n",
    "user_level_data[\"sessions\"] = user_level_data[\"timestamp\"]\n",
    "user_level_data[\"mean_request_latency\"] = user_level_data[\"latency\"] / user_level_data[\"tracks\"]\n",
    "user_level_data[\"mean_tracks_per_session\"] = user_level_data[\"tracks\"] / user_level_data[\"sessions\"]\n",
    "user_level_data[\"mean_time_per_session\"] = user_level_data[\"time\"] / user_level_data[\"sessions\"]\n",
    "\n",
    "metrics = [\n",
    "    \"time\", \n",
    "    \"sessions\", \n",
    "    \"mean_request_latency\", \n",
    "    \"mean_tracks_per_session\", \n",
    "    \"mean_time_per_session\"\n",
    "]\n",
    "\n",
    "user_level_metrics = user_level_data[metrics].copy().reset_index()"
   ]
  },
  {
   "cell_type": "code",
   "execution_count": null,
   "metadata": {
    "tags": []
   },
   "outputs": [],
   "source": [
    "treatment_level_metrics = (\n",
    "    user_level_metrics\n",
    "    .groupby(\"treatment\")[metrics]\n",
    "    .agg([\"count\", \"mean\", \"var\"])\n",
    ")"
   ]
  },
  {
   "cell_type": "code",
   "execution_count": null,
   "metadata": {
    "tags": []
   },
   "outputs": [],
   "source": [
    "def dof(n_0, n_1, s2_0, s2_1):\n",
    "    numerator = (s2_0 / n_0 + s2_1 / n_1) * (s2_0 / n_0 + s2_1 / n_1)\n",
    "    denominator = s2_0 * s2_0 / n_0 / n_0 / (n_0 - 1) + s2_1 * s2_1 / n_1 / n_1 / (n_1 - 1)\n",
    "    return numerator / denominator\n",
    "\n",
    "\n",
    "def ci(n_0, n_1, s2_0, s2_1, alpha=0.05):\n",
    "    return ss.t.ppf(1 - alpha/2, dof(n_0, n_1, s2_0, s2_1)) * np.sqrt(s2_0 / n_0 + s2_1 / n_1)\n",
    "\n",
    "\n",
    "effects = []\n",
    "\n",
    "control = [data for treatment, data in treatment_level_metrics.iterrows() if treatment == \"C\"][0]\n",
    "\n",
    "for treatment, row in treatment_level_metrics.iterrows():\n",
    "    if treatment == \"C\":\n",
    "        continue\n",
    "    \n",
    "    for metric in metrics:\n",
    "        control_mean = control[metric][\"mean\"]\n",
    "        treatment_mean = row[metric][\"mean\"]\n",
    "        \n",
    "        effect = treatment_mean - control_mean\n",
    "        conf_int = ci(\n",
    "            control[metric][\"count\"],\n",
    "            row[metric][\"count\"],\n",
    "            control[metric][\"var\"],\n",
    "            row[metric][\"var\"],\n",
    "        )\n",
    "        effects.append({\n",
    "            \"treatment\": treatment,\n",
    "            \"metric\": metric,\n",
    "            \"control_mean\": control_mean,\n",
    "            \"treatment_mean\": treatment_mean,\n",
    "            \"effect\": effect / control_mean * 100,\n",
    "            \"lower\": (effect - conf_int) / control_mean * 100,\n",
    "            \"upper\": (effect + conf_int) / control_mean * 100,\n",
    "            \"significant\": (effect + conf_int) * (effect - conf_int) > 0\n",
    "        })"
   ]
  },
  {
   "cell_type": "code",
   "execution_count": null,
   "metadata": {
    "tags": []
   },
   "outputs": [],
   "source": [
    "def color(value):\n",
    "    return 'color:red;' if value < 0 else 'color:green;'\n",
    "\n",
    "def background(value):\n",
    "    return 'color:white;background-color:green' if value else 'color:white;background-color:red'\n",
    "        \n",
    "\n",
    "(\n",
    "    pd.DataFrame(effects)[[\n",
    "        \"treatment\", \n",
    "        \"metric\",\n",
    "        \"effect\", \n",
    "        \"upper\", \n",
    "        \"lower\", \n",
    "        \"control_mean\", \n",
    "        \"treatment_mean\",\n",
    "        \"significant\"\n",
    "    ]]\n",
    "    .sort_values([\"metric\", \"treatment\"], ascending=False)\n",
    "    .style\n",
    "    .applymap(color, subset=[\"effect\", \"upper\", \"lower\"])\n",
    "    .applymap(background, subset=[\"significant\"])\n",
    ")"
   ]
  },
  {
   "cell_type": "code",
   "execution_count": null,
   "metadata": {},
   "outputs": [],
   "source": []
  }
 ],
 "metadata": {
  "kernelspec": {
   "display_name": "Python 3 (ipykernel)",
   "language": "python",
   "name": "python3"
  },
  "language_info": {
   "codemirror_mode": {
    "name": "ipython",
    "version": 3
   },
   "file_extension": ".py",
   "mimetype": "text/x-python",
   "name": "python",
   "nbconvert_exporter": "python",
   "pygments_lexer": "ipython3",
   "version": "3.8.0"
  }
 },
 "nbformat": 4,
 "nbformat_minor": 4
}
